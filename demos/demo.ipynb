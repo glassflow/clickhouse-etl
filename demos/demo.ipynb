{
 "cells": [
  {
   "cell_type": "markdown",
   "metadata": {},
   "source": [
    "# GlassFlow Demo\n",
    "\n",
    "## Resources\n",
    "- Use local Kafka\n",
    "- Use local ClickHouse\n",
    "\n",
    "Run `docker compose up` from the `demos/` folder to start GlassFlow, Kafka and ClickHouse.\n",
    "\n",
    "## Index\n",
    "\n",
    "1. [Deduplication Problem](#problem-duplicates-in-clickhouse)\n",
    "   1. [Setup ClickHouse](#setup-clickhouse)\n",
    "   2. [Generate Events](#generate-events)\n",
    "2. [Solution](#solution-glassflow) \n",
    "   1. [Setup ClickHouse and Kafka](#setup-clickhouse-and-kafka)\n",
    "   2. [Create GlassFlow Pipeline](#create-glassflow-pipeline)\n",
    "   3. [Generate Events](#generate-events)\n",
    "3. [Enrich data with a join (Extra)](#extra-enrich-data-with-joins)\n",
    "   1. [Setup ClickHouse and Kafka](#setup-clickhouse-and-kafka)\n",
    "   2. [Create GlassFlow Pipeline](#create-glassflow-pipeline)\n",
    "   3. [Generate Events](#generate-events)"
   ]
  },
  {
   "cell_type": "markdown",
   "metadata": {},
   "source": [
    "## Problem: Duplicates in ClickHouse\n",
    "\n",
    "### Setup ClickHouse"
   ]
  },
  {
   "cell_type": "code",
   "execution_count": 2,
   "metadata": {},
   "outputs": [
    {
     "data": {
      "text/plain": [
       "<clickhouse_connect.driver.summary.QuerySummary at 0x10cafe710>"
      ]
     },
     "execution_count": 2,
     "metadata": {},
     "output_type": "execute_result"
    }
   ],
   "source": [
    "from clickhouse_connect import get_client\n",
    "from dotenv import load_dotenv\n",
    "import os\n",
    "\n",
    "load_dotenv()\n",
    "\n",
    "client = get_client(\n",
    "    host=os.getenv('CLICKHOUSE_HOST'), \n",
    "    port=os.getenv('CLICKHOUSE_PORT'), \n",
    "    user=os.getenv('CLICKHOUSE_USERNAME'), \n",
    "    password=os.getenv('CLICKHOUSE_PASSWORD'),\n",
    "    database=os.getenv('CLICKHOUSE_DATABASE'),\n",
    "    secure=False\n",
    ")\n",
    "\n",
    "client.command(\"DROP TABLE IF EXISTS orders\")\n",
    "client.command(\n",
    "    \"\"\"CREATE TABLE IF NOT EXISTS orders \n",
    "    (\n",
    "        order_id UUID, \n",
    "        user_id UUID, \n",
    "        product_id UUID, \n",
    "        quantity Int32, \n",
    "        price Float64, \n",
    "        created_at DateTime\n",
    "    ) \n",
    "    ENGINE = ReplacingMergeTree\n",
    "    ORDER BY order_id\"\"\"\n",
    ")\n"
   ]
  },
  {
   "cell_type": "markdown",
   "metadata": {},
   "source": [
    "### Generate Events"
   ]
  },
  {
   "cell_type": "code",
   "execution_count": 3,
   "metadata": {},
   "outputs": [],
   "source": [
    "import glassgen\n",
    "\n",
    "orders_schema = {\n",
    "    \"order_id\": \"$uuid\",\n",
    "    \"user_id\": \"$uuid\",\n",
    "    \"product_id\": \"$uuid\",\n",
    "    \"quantity\": \"$intrange(1, 10)\",\n",
    "    \"price\": \"$price(1, 100)\",\n",
    "    \"created_at\": '$datetime(%Y-%m-%d %H:%M:%S)',\n",
    "}\n",
    "\n",
    "gen = glassgen.generate(\n",
    "    config={\n",
    "        \"sink\": {\n",
    "            \"type\": \"yield\"\n",
    "        },\n",
    "        \"generator\": {\n",
    "            \"num_records\": 100000,\n",
    "            \"rps\": 10000,\n",
    "            \"event_options\": {\n",
    "                \"duplication\": {\n",
    "                    \"enabled\": True,\n",
    "                    \"ratio\": 0.5,\n",
    "                    \"key_field\": \"user_id\",\n",
    "                    \"time_window\": \"1h\"\n",
    "                    \n",
    "                }\n",
    "            },\n",
    "        },\n",
    "        \"schema\": orders_schema\n",
    "    }\n",
    ")"
   ]
  },
  {
   "cell_type": "code",
   "execution_count": 65,
   "metadata": {},
   "outputs": [],
   "source": [
    "import datetime as dt\n",
    "\n",
    "columns = [\n",
    "    \"order_id\",\n",
    "    \"user_id\",\n",
    "    \"product_id\",\n",
    "    \"quantity\",\n",
    "    \"price\",\n",
    "    \"created_at\"\n",
    "]\n",
    "batch_size = 10000\n",
    "batch = []\n",
    "for event in gen:\n",
    "    event_copy = event.copy()\n",
    "    event_copy[\"created_at\"] = event_copy[\"created_at\"].replace('\"', \"\")\n",
    "    event_copy[\"created_at\"] = dt.datetime.strptime(event_copy[\"created_at\"], \"%Y-%m-%d %H:%M:%S\")\n",
    "    event_list = [event_copy[c] for c in columns]\n",
    "    batch.append(event_list)\n",
    "    if len(batch) >= batch_size:\n",
    "        client.insert(\n",
    "            \"orders\",\n",
    "            batch,\n",
    "            column_names=columns\n",
    "        )\n",
    "        batch = []\n",
    "if batch:\n",
    "    client.insert(\n",
    "        \"orders\",\n",
    "        batch,\n",
    "        column_names=columns\n",
    "    )"
   ]
  },
  {
   "cell_type": "code",
   "execution_count": 66,
   "metadata": {},
   "outputs": [
    {
     "name": "stdout",
     "output_type": "stream",
     "text": [
      "Total: 67514\n",
      "Unique: 66667\n",
      "Percentage of duplicates: 1.25%\n"
     ]
    }
   ],
   "source": [
    "total = client.command(\"SELECT count(*) FROM orders\")\n",
    "unique = client.command(\"SELECT count(DISTINCT order_id) FROM orders\")\n",
    "\n",
    "print(f\"Total: {total}\")\n",
    "print(f\"Unique: {unique}\")\n",
    "print(f\"Percentage of duplicates: {100 * (total - unique) / total:.2f}%\")"
   ]
  },
  {
   "cell_type": "markdown",
   "metadata": {},
   "source": [
    "## Solution: GlassFlow\n",
    "\n",
    "We will showcase how to deduplicate an event stream and how to enreach it by joining the stream with another stream.\n",
    "\n",
    "\n",
    "### Setup ClickHouse and Kafka\n",
    "Now we need to create a table in ClickHouse and a couple topics for our events."
   ]
  },
  {
   "cell_type": "code",
   "execution_count": 4,
   "metadata": {},
   "outputs": [
    {
     "data": {
      "text/plain": [
       "<clickhouse_connect.driver.summary.QuerySummary at 0x10d784510>"
      ]
     },
     "execution_count": 4,
     "metadata": {},
     "output_type": "execute_result"
    }
   ],
   "source": [
    "# Create ClickHouse table\n",
    "client = get_client(\n",
    "    host=os.getenv('CLICKHOUSE_HOST'), \n",
    "    port=os.getenv('CLICKHOUSE_PORT'), \n",
    "    user=os.getenv('CLICKHOUSE_USERNAME'), \n",
    "    password=os.getenv('CLICKHOUSE_PASSWORD'),\n",
    "    database=os.getenv('CLICKHOUSE_DATABASE'),\n",
    "    secure=False\n",
    ")\n",
    "\n",
    "client.command(\"DROP TABLE IF EXISTS orders_glassflow\")\n",
    "client.command(\n",
    "    \"\"\"CREATE TABLE IF NOT EXISTS orders_glassflow \n",
    "    (\n",
    "        order_id UUID, \n",
    "        user_id UUID, \n",
    "        product_id UUID, \n",
    "        price Float64, \n",
    "        quantity Int32, \n",
    "        created_at DateTime\n",
    "    ) \n",
    "    ENGINE = ReplacingMergeTree\n",
    "    ORDER BY order_id\"\"\"\n",
    ")"
   ]
  },
  {
   "cell_type": "code",
   "execution_count": 5,
   "metadata": {},
   "outputs": [
    {
     "name": "stdout",
     "output_type": "stream",
     "text": [
      "Created topic orders.\n"
     ]
    }
   ],
   "source": [
    "# Create topics\n",
    "!docker exec -t kafka kafka-topics --create --topic orders --bootstrap-server localhost:9093 --partitions 1 --replication-factor 1 --command-config /etc/kafka/client.properties"
   ]
  },
  {
   "cell_type": "code",
   "execution_count": 6,
   "metadata": {},
   "outputs": [],
   "source": [
    "%%bash\n",
    "cd ~/Documents/code/clickhouse-etl/demos/\n",
    "echo '{\"order_id\": \"90190f44-e417-4066-b48d-babb4707e2f8\",\"user_id\": \"90190f44-e417-4066-b48d-babb4707e2f8\",\"product_id\": \"90190f44-e417-4066-b48d-babb4707e2f8\",\"price\": 5.99,\"quantity\": 1,\"created_at\": \"2025-05-12 15:29:12\"}' | \\\n",
    "docker compose exec -T kafka kafka-console-producer --topic orders --bootstrap-server localhost:9093 --producer.config /etc/kafka/client.properties"
   ]
  },
  {
   "cell_type": "markdown",
   "metadata": {},
   "source": [
    "### Create GlassFlow Pipeline\n",
    "Using the UI → http://localhost:8080"
   ]
  },
  {
   "cell_type": "markdown",
   "metadata": {},
   "source": [
    "### Generate Events\n",
    "\n",
    "1. Generate events for the user topic\n",
    "2. Generate events for the preferences topic"
   ]
  },
  {
   "cell_type": "code",
   "execution_count": 84,
   "metadata": {},
   "outputs": [],
   "source": [
    "num_records = 100000\n",
    "rps = 10000\n",
    "\n",
    "\n",
    "# Generate events\n",
    "orders_config = {\n",
    "    \"schema\": orders_schema,\n",
    "    \"sink\": {\n",
    "        \"type\": \"kafka\",\n",
    "        \"params\": {\n",
    "            \"bootstrap.servers\": os.getenv(\"KAFKA_BOOTSTRAP_SERVERS\"),\n",
    "            \"topic\": \"orders\",\n",
    "            \"security.protocol\": os.getenv(\"KAFKA_SECURITY_PROTOCOL\"),\n",
    "            \"sasl.mechanism\": os.getenv(\"KAFKA_SASL_MECHANISM\"),\n",
    "            \"sasl.username\": os.getenv(\"KAFKA_SASL_USERNAME\"),\n",
    "            \"sasl.password\": os.getenv(\"KAFKA_SASL_PASSWORD\"),\n",
    "        },\n",
    "    },\n",
    "    \"generator\": {\n",
    "        \"num_records\": num_records,\n",
    "        \"rps\": rps,\n",
    "        \"event_options\": {\n",
    "            \"duplication\": {\n",
    "                \"enabled\": True,\n",
    "                \"ratio\": 0.5,\n",
    "                \"key_field\": \"order_id\",\n",
    "                \"time_window\": \"1h\"\n",
    "            }\n",
    "        },\n",
    "    },\n",
    "}\n",
    "\n",
    "orders_generator_resp = glassgen.generate(\n",
    "    config=orders_config\n",
    ")"
   ]
  },
  {
   "cell_type": "code",
   "execution_count": 85,
   "metadata": {},
   "outputs": [
    {
     "name": "stdout",
     "output_type": "stream",
     "text": [
      "Total: 132913\n",
      "Unique: 132913\n",
      "Percentage of duplicates: 0.00%\n"
     ]
    }
   ],
   "source": [
    "total = client.command(\"SELECT count(*) FROM orders_glassflow\")\n",
    "unique = client.command(\"SELECT count(DISTINCT order_id) FROM orders_glassflow\")\n",
    "\n",
    "print(f\"Total: {total}\")\n",
    "print(f\"Unique: {unique}\")\n",
    "print(f\"Percentage of duplicates: {100 * (total - unique) / total:.2f}%\")\n"
   ]
  },
  {
   "cell_type": "markdown",
   "metadata": {},
   "source": [
    "## (Extra) Enrich Data with Joins"
   ]
  },
  {
   "cell_type": "markdown",
   "metadata": {},
   "source": [
    "### Setup ClickHouse and Kafka"
   ]
  },
  {
   "cell_type": "code",
   "execution_count": 8,
   "metadata": {},
   "outputs": [
    {
     "data": {
      "text/plain": [
       "<clickhouse_connect.driver.summary.QuerySummary at 0x10b8ffd10>"
      ]
     },
     "execution_count": 8,
     "metadata": {},
     "output_type": "execute_result"
    }
   ],
   "source": [
    "client.command(\"DROP TABLE IF EXISTS orders_enriched\")\n",
    "client.command(\n",
    "    \"\"\"CREATE TABLE IF NOT EXISTS orders_enriched \n",
    "    (\n",
    "        order_id UUID, \n",
    "        user_id UUID, \n",
    "        product_id UUID, \n",
    "        price Float64, \n",
    "        quantity Int32, \n",
    "        user_name String, \n",
    "        user_email String, \n",
    "        user_phone_number String, \n",
    "        user_address String, \n",
    "        user_city String, \n",
    "        user_zipcode String, \n",
    "        user_country String, \n",
    "        created_at DateTime\n",
    "    ) \n",
    "    ENGINE = ReplacingMergeTree\n",
    "    ORDER BY order_id\"\"\"\n",
    ")"
   ]
  },
  {
   "cell_type": "code",
   "execution_count": 7,
   "metadata": {},
   "outputs": [
    {
     "name": "stdout",
     "output_type": "stream",
     "text": [
      "Created topic users.\n"
     ]
    }
   ],
   "source": [
    "!docker exec -t kafka kafka-topics --create --topic users --bootstrap-server localhost:9093 --partitions 1 --replication-factor 1 --command-config /etc/kafka/client.properties"
   ]
  },
  {
   "cell_type": "code",
   "execution_count": 9,
   "metadata": {},
   "outputs": [],
   "source": [
    "%%bash\n",
    "cd ~/Documents/code/clickhouse-etl/demos/\n",
    "\n",
    "echo '{\"user_id\": \"90190f44-e417-4066-b48d-babb4707e2f8\",\"name\": \"Gerald Lee\",\"email\": \"ghoward@example.net\",\"phone_number\": \"962-849-9130\",\"address\": \"PSC 0823, Box 2668 APO AE 84257\",\"city\": \"Clarkborough\",\"zipcode\": \"80412\",\"country\": \"Oman\",\"created_at\": \"2025-05-12 15:29:12\"}' | \\\n",
    "docker compose exec -T kafka kafka-console-producer --topic users --bootstrap-server localhost:9093 --producer.config /etc/kafka/client.properties"
   ]
  },
  {
   "cell_type": "markdown",
   "metadata": {},
   "source": [
    "### Create GlassFlow Pipeline\n",
    "Using the UI → http://localhost:8080"
   ]
  },
  {
   "cell_type": "markdown",
   "metadata": {},
   "source": [
    "### Generate Events"
   ]
  },
  {
   "cell_type": "code",
   "execution_count": 89,
   "metadata": {},
   "outputs": [],
   "source": [
    "import itertools\n",
    "import uuid\n",
    "\n",
    "\n",
    "class JoinEventSchema(glassgen.ConfigSchema):\n",
    "    def __init__(self, schema_dict: dict, join_key: str, list_of_keys: list, **kwargs):\n",
    "        fields = self._schema_dict_to_fields(schema_dict)\n",
    "        super().__init__(fields=fields, **kwargs)\n",
    "        self.validate()\n",
    "        self._join_key = join_key\n",
    "        self._join_key_select = itertools.cycle(list_of_keys)\n",
    "\n",
    "    @property\n",
    "    def join_key_select(self) -> itertools.cycle:\n",
    "        return self._join_key_select\n",
    "\n",
    "    @property\n",
    "    def join_key(self) -> str:\n",
    "        return self._join_key\n",
    "\n",
    "    def _generate_record(self):\n",
    "        \"\"\"Generate a single record based on the schema\"\"\"\n",
    "        record = super()._generate_record()\n",
    "        record[self._join_key] = next(self.join_key_select)\n",
    "        return record\n",
    "\n",
    "\n",
    "def get_glassgen_config(topic_name, num_records, duplication_key, rps=1000):\n",
    "    return {\n",
    "        \"sink\": {\n",
    "            \"type\": \"kafka\",\n",
    "            \"params\": {\n",
    "                \"bootstrap.servers\": os.getenv(\"KAFKA_BOOTSTRAP_SERVERS\"),\n",
    "                \"topic\": topic_name,\n",
    "                \"security.protocol\": os.getenv(\"KAFKA_SECURITY_PROTOCOL\"),\n",
    "                \"sasl.mechanism\": os.getenv(\"KAFKA_SASL_MECHANISM\"),\n",
    "                \"sasl.username\": os.getenv(\"KAFKA_SASL_USERNAME\"),\n",
    "                \"sasl.password\": os.getenv(\"KAFKA_SASL_PASSWORD\"),\n",
    "            },\n",
    "        },\n",
    "        \"generator\": {\n",
    "            \"num_records\": num_records,\n",
    "            \"rps\": rps,\n",
    "            \"event_options\": {\n",
    "                \"duplication\": {\n",
    "                    \"enabled\": True,\n",
    "                    \"ratio\": 0.5,\n",
    "                    \"key_field\": duplication_key,\n",
    "                    \"time_window\": \"1h\"\n",
    "                }\n",
    "            },\n",
    "        },\n",
    "    }\n",
    "\n",
    "right_num_records = 5000\n",
    "right_rps = 10000\n",
    "left_num_records = 100000\n",
    "left_rps = 10000\n",
    "\n",
    "join_keys = [str(uuid.uuid4()) for _ in range(right_num_records)]\n",
    "\n",
    "\n",
    "# Generate users events\n",
    "orders_schema = JoinEventSchema(\n",
    "    schema_dict=orders_schema,\n",
    "    join_key=\"user_id\",\n",
    "    list_of_keys=join_keys\n",
    ")\n",
    "orders_generator_resp = glassgen.generate(\n",
    "    config=get_glassgen_config(\n",
    "        num_records=left_num_records,\n",
    "        rps=left_rps,\n",
    "        topic_name=\"orders\",\n",
    "        duplication_key=\"order_id\",\n",
    "    ),\n",
    "    schema=orders_schema,\n",
    ")\n",
    "\n",
    "\n",
    "# Generate preferences events\n",
    "users_schema = JoinEventSchema(\n",
    "    schema_dict={\n",
    "        \"user_id\": \"$uuid\",\n",
    "        \"name\": \"$name\",\n",
    "        \"email\": \"$email\",\n",
    "        \"phone_number\": \"$phone_number\",\n",
    "        \"address\": \"$address\",\n",
    "        \"city\": \"$city\",\n",
    "        \"zipcode\": \"$zipcode\",\n",
    "        \"country\": \"$country\",\n",
    "        \"created_at\": '$datetime(%Y-%m-%d %H:%M:%S)',\n",
    "    },\n",
    "    join_key=\"user_id\",\n",
    "    list_of_keys=join_keys,\n",
    ")\n",
    "users_generator_resp = glassgen.generate(\n",
    "    config=get_glassgen_config(\n",
    "        num_records=right_num_records,\n",
    "        rps=right_rps,\n",
    "        topic_name=\"users\",\n",
    "        duplication_key=\"user_id\",\n",
    "    ),\n",
    "    schema=users_schema,\n",
    ")"
   ]
  },
  {
   "cell_type": "code",
   "execution_count": null,
   "metadata": {},
   "outputs": [],
   "source": []
  }
 ],
 "metadata": {
  "kernelspec": {
   "display_name": "altenity-puxq",
   "language": "python",
   "name": "python3"
  },
  "language_info": {
   "codemirror_mode": {
    "name": "ipython",
    "version": 3
   },
   "file_extension": ".py",
   "mimetype": "text/x-python",
   "name": "python",
   "nbconvert_exporter": "python",
   "pygments_lexer": "ipython3",
   "version": "3.13.2"
  }
 },
 "nbformat": 4,
 "nbformat_minor": 2
}
